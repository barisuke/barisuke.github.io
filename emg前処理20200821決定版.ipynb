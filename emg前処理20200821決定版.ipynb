{
  "nbformat": 4,
  "nbformat_minor": 0,
  "metadata": {
    "colab": {
      "name": "emg前処理20200821決定版",
      "provenance": [],
      "collapsed_sections": [],
      "machine_shape": "hm",
      "include_colab_link": true
    },
    "kernelspec": {
      "name": "python3",
      "display_name": "Python 3"
    },
    "accelerator": "GPU"
  },
  "cells": [
    {
      "cell_type": "markdown",
      "metadata": {
        "id": "view-in-github",
        "colab_type": "text"
      },
      "source": [
        "<a href=\"https://colab.research.google.com/github/barisuke/barisuke.github.io/blob/master/emg%E5%89%8D%E5%87%A6%E7%90%8620200821%E6%B1%BA%E5%AE%9A%E7%89%88.ipynb\" target=\"_parent\"><img src=\"https://colab.research.google.com/assets/colab-badge.svg\" alt=\"Open In Colab\"/></a>"
      ]
    },
    {
      "cell_type": "markdown",
      "metadata": {
        "id": "KDIEYuvcn9kZ"
      },
      "source": [
        "# Import libraries"
      ]
    },
    {
      "cell_type": "code",
      "metadata": {
        "id": "5huY9HtFTUip",
        "colab": {
          "base_uri": "https://localhost:8080/",
          "height": 122
        },
        "outputId": "18c40a4a-0742-4e3b-f6cc-816e14e3d3ca"
      },
      "source": [
        "from google.colab import drive\n",
        "drive.mount('/content/drive')"
      ],
      "execution_count": null,
      "outputs": [
        {
          "output_type": "stream",
          "text": [
            "Go to this URL in a browser: https://accounts.google.com/o/oauth2/auth?client_id=947318989803-6bn6qk8qdgf4n4g3pfee6491hc0brc4i.apps.googleusercontent.com&redirect_uri=urn%3aietf%3awg%3aoauth%3a2.0%3aoob&scope=email%20https%3a%2f%2fwww.googleapis.com%2fauth%2fdocs.test%20https%3a%2f%2fwww.googleapis.com%2fauth%2fdrive%20https%3a%2f%2fwww.googleapis.com%2fauth%2fdrive.photos.readonly%20https%3a%2f%2fwww.googleapis.com%2fauth%2fpeopleapi.readonly&response_type=code\n",
            "\n",
            "Enter your authorization code:\n",
            "··········\n",
            "Mounted at /content/drive\n"
          ],
          "name": "stdout"
        }
      ]
    },
    {
      "cell_type": "code",
      "metadata": {
        "id": "L2MhKk35rWFS",
        "colab": {
          "base_uri": "https://localhost:8080/"
        },
        "outputId": "998deddb-a1f0-41bb-8b63-275eb484f3cf"
      },
      "source": [
        "!pip install neurokit2\n",
        "!pip install japanize-matplotlib"
      ],
      "execution_count": null,
      "outputs": [
        {
          "output_type": "stream",
          "text": [
            "Collecting neurokit2\n",
            "\u001b[?25l  Downloading https://files.pythonhosted.org/packages/23/53/82471d29fb3374a3813aad943eb4c9058b108ca477329a2b37343b0baf74/neurokit2-0.0.42-py2.py3-none-any.whl (985kB)\n",
            "\r\u001b[K     |▎                               | 10kB 21.2MB/s eta 0:00:01\r\u001b[K     |▋                               | 20kB 26.4MB/s eta 0:00:01\r\u001b[K     |█                               | 30kB 7.3MB/s eta 0:00:01\r\u001b[K     |█▎                              | 40kB 7.4MB/s eta 0:00:01\r\u001b[K     |█▋                              | 51kB 8.1MB/s eta 0:00:01\r\u001b[K     |██                              | 61kB 8.4MB/s eta 0:00:01\r\u001b[K     |██▎                             | 71kB 8.6MB/s eta 0:00:01\r\u001b[K     |██▋                             | 81kB 9.6MB/s eta 0:00:01\r\u001b[K     |███                             | 92kB 7.6MB/s eta 0:00:01\r\u001b[K     |███▎                            | 102kB 7.2MB/s eta 0:00:01\r\u001b[K     |███▋                            | 112kB 7.2MB/s eta 0:00:01\r\u001b[K     |████                            | 122kB 7.2MB/s eta 0:00:01\r\u001b[K     |████▎                           | 133kB 7.2MB/s eta 0:00:01\r\u001b[K     |████▋                           | 143kB 7.2MB/s eta 0:00:01\r\u001b[K     |█████                           | 153kB 7.2MB/s eta 0:00:01\r\u001b[K     |█████▎                          | 163kB 7.2MB/s eta 0:00:01\r\u001b[K     |█████▋                          | 174kB 7.2MB/s eta 0:00:01\r\u001b[K     |██████                          | 184kB 7.2MB/s eta 0:00:01\r\u001b[K     |██████▎                         | 194kB 7.2MB/s eta 0:00:01\r\u001b[K     |██████▋                         | 204kB 7.2MB/s eta 0:00:01\r\u001b[K     |███████                         | 215kB 7.2MB/s eta 0:00:01\r\u001b[K     |███████▎                        | 225kB 7.2MB/s eta 0:00:01\r\u001b[K     |███████▋                        | 235kB 7.2MB/s eta 0:00:01\r\u001b[K     |████████                        | 245kB 7.2MB/s eta 0:00:01\r\u001b[K     |████████▎                       | 256kB 7.2MB/s eta 0:00:01\r\u001b[K     |████████▋                       | 266kB 7.2MB/s eta 0:00:01\r\u001b[K     |█████████                       | 276kB 7.2MB/s eta 0:00:01\r\u001b[K     |█████████▎                      | 286kB 7.2MB/s eta 0:00:01\r\u001b[K     |█████████▋                      | 296kB 7.2MB/s eta 0:00:01\r\u001b[K     |██████████                      | 307kB 7.2MB/s eta 0:00:01\r\u001b[K     |██████████▎                     | 317kB 7.2MB/s eta 0:00:01\r\u001b[K     |██████████▋                     | 327kB 7.2MB/s eta 0:00:01\r\u001b[K     |███████████                     | 337kB 7.2MB/s eta 0:00:01\r\u001b[K     |███████████▎                    | 348kB 7.2MB/s eta 0:00:01\r\u001b[K     |███████████▋                    | 358kB 7.2MB/s eta 0:00:01\r\u001b[K     |████████████                    | 368kB 7.2MB/s eta 0:00:01\r\u001b[K     |████████████▎                   | 378kB 7.2MB/s eta 0:00:01\r\u001b[K     |████████████▋                   | 389kB 7.2MB/s eta 0:00:01\r\u001b[K     |█████████████                   | 399kB 7.2MB/s eta 0:00:01\r\u001b[K     |█████████████▎                  | 409kB 7.2MB/s eta 0:00:01\r\u001b[K     |█████████████▋                  | 419kB 7.2MB/s eta 0:00:01\r\u001b[K     |██████████████                  | 430kB 7.2MB/s eta 0:00:01\r\u001b[K     |██████████████▎                 | 440kB 7.2MB/s eta 0:00:01\r\u001b[K     |██████████████▋                 | 450kB 7.2MB/s eta 0:00:01\r\u001b[K     |███████████████                 | 460kB 7.2MB/s eta 0:00:01\r\u001b[K     |███████████████▎                | 471kB 7.2MB/s eta 0:00:01\r\u001b[K     |███████████████▋                | 481kB 7.2MB/s eta 0:00:01\r\u001b[K     |████████████████                | 491kB 7.2MB/s eta 0:00:01\r\u001b[K     |████████████████▎               | 501kB 7.2MB/s eta 0:00:01\r\u001b[K     |████████████████▋               | 512kB 7.2MB/s eta 0:00:01\r\u001b[K     |█████████████████               | 522kB 7.2MB/s eta 0:00:01\r\u001b[K     |█████████████████▎              | 532kB 7.2MB/s eta 0:00:01\r\u001b[K     |█████████████████▋              | 542kB 7.2MB/s eta 0:00:01\r\u001b[K     |██████████████████              | 552kB 7.2MB/s eta 0:00:01\r\u001b[K     |██████████████████▎             | 563kB 7.2MB/s eta 0:00:01\r\u001b[K     |██████████████████▋             | 573kB 7.2MB/s eta 0:00:01\r\u001b[K     |███████████████████             | 583kB 7.2MB/s eta 0:00:01\r\u001b[K     |███████████████████▎            | 593kB 7.2MB/s eta 0:00:01\r\u001b[K     |███████████████████▋            | 604kB 7.2MB/s eta 0:00:01\r\u001b[K     |████████████████████            | 614kB 7.2MB/s eta 0:00:01\r\u001b[K     |████████████████████▎           | 624kB 7.2MB/s eta 0:00:01\r\u001b[K     |████████████████████▋           | 634kB 7.2MB/s eta 0:00:01\r\u001b[K     |█████████████████████           | 645kB 7.2MB/s eta 0:00:01\r\u001b[K     |█████████████████████▎          | 655kB 7.2MB/s eta 0:00:01\r\u001b[K     |█████████████████████▋          | 665kB 7.2MB/s eta 0:00:01\r\u001b[K     |██████████████████████          | 675kB 7.2MB/s eta 0:00:01\r\u001b[K     |██████████████████████▎         | 686kB 7.2MB/s eta 0:00:01\r\u001b[K     |██████████████████████▋         | 696kB 7.2MB/s eta 0:00:01\r\u001b[K     |███████████████████████         | 706kB 7.2MB/s eta 0:00:01\r\u001b[K     |███████████████████████▎        | 716kB 7.2MB/s eta 0:00:01\r\u001b[K     |███████████████████████▋        | 727kB 7.2MB/s eta 0:00:01\r\u001b[K     |████████████████████████        | 737kB 7.2MB/s eta 0:00:01\r\u001b[K     |████████████████████████▎       | 747kB 7.2MB/s eta 0:00:01\r\u001b[K     |████████████████████████▋       | 757kB 7.2MB/s eta 0:00:01\r\u001b[K     |█████████████████████████       | 768kB 7.2MB/s eta 0:00:01\r\u001b[K     |█████████████████████████▎      | 778kB 7.2MB/s eta 0:00:01\r\u001b[K     |█████████████████████████▋      | 788kB 7.2MB/s eta 0:00:01\r\u001b[K     |██████████████████████████      | 798kB 7.2MB/s eta 0:00:01\r\u001b[K     |██████████████████████████▎     | 808kB 7.2MB/s eta 0:00:01\r\u001b[K     |██████████████████████████▋     | 819kB 7.2MB/s eta 0:00:01\r\u001b[K     |███████████████████████████     | 829kB 7.2MB/s eta 0:00:01\r\u001b[K     |███████████████████████████▎    | 839kB 7.2MB/s eta 0:00:01\r\u001b[K     |███████████████████████████▋    | 849kB 7.2MB/s eta 0:00:01\r\u001b[K     |████████████████████████████    | 860kB 7.2MB/s eta 0:00:01\r\u001b[K     |████████████████████████████▎   | 870kB 7.2MB/s eta 0:00:01\r\u001b[K     |████████████████████████████▋   | 880kB 7.2MB/s eta 0:00:01\r\u001b[K     |█████████████████████████████   | 890kB 7.2MB/s eta 0:00:01\r\u001b[K     |█████████████████████████████▎  | 901kB 7.2MB/s eta 0:00:01\r\u001b[K     |█████████████████████████████▋  | 911kB 7.2MB/s eta 0:00:01\r\u001b[K     |██████████████████████████████  | 921kB 7.2MB/s eta 0:00:01\r\u001b[K     |██████████████████████████████▎ | 931kB 7.2MB/s eta 0:00:01\r\u001b[K     |██████████████████████████████▋ | 942kB 7.2MB/s eta 0:00:01\r\u001b[K     |███████████████████████████████ | 952kB 7.2MB/s eta 0:00:01\r\u001b[K     |███████████████████████████████▎| 962kB 7.2MB/s eta 0:00:01\r\u001b[K     |███████████████████████████████▋| 972kB 7.2MB/s eta 0:00:01\r\u001b[K     |████████████████████████████████| 983kB 7.2MB/s eta 0:00:01\r\u001b[K     |████████████████████████████████| 993kB 7.2MB/s \n",
            "\u001b[?25hRequirement already satisfied: sklearn in /usr/local/lib/python3.6/dist-packages (from neurokit2) (0.0)\n",
            "Requirement already satisfied: scipy in /usr/local/lib/python3.6/dist-packages (from neurokit2) (1.4.1)\n",
            "Requirement already satisfied: pandas in /usr/local/lib/python3.6/dist-packages (from neurokit2) (1.1.4)\n",
            "Requirement already satisfied: matplotlib in /usr/local/lib/python3.6/dist-packages (from neurokit2) (3.2.2)\n",
            "Requirement already satisfied: numpy in /usr/local/lib/python3.6/dist-packages (from neurokit2) (1.18.5)\n",
            "Requirement already satisfied: scikit-learn in /usr/local/lib/python3.6/dist-packages (from sklearn->neurokit2) (0.22.2.post1)\n",
            "Requirement already satisfied: python-dateutil>=2.7.3 in /usr/local/lib/python3.6/dist-packages (from pandas->neurokit2) (2.8.1)\n",
            "Requirement already satisfied: pytz>=2017.2 in /usr/local/lib/python3.6/dist-packages (from pandas->neurokit2) (2018.9)\n",
            "Requirement already satisfied: kiwisolver>=1.0.1 in /usr/local/lib/python3.6/dist-packages (from matplotlib->neurokit2) (1.3.1)\n",
            "Requirement already satisfied: pyparsing!=2.0.4,!=2.1.2,!=2.1.6,>=2.0.1 in /usr/local/lib/python3.6/dist-packages (from matplotlib->neurokit2) (2.4.7)\n",
            "Requirement already satisfied: cycler>=0.10 in /usr/local/lib/python3.6/dist-packages (from matplotlib->neurokit2) (0.10.0)\n",
            "Requirement already satisfied: joblib>=0.11 in /usr/local/lib/python3.6/dist-packages (from scikit-learn->sklearn->neurokit2) (0.17.0)\n",
            "Requirement already satisfied: six>=1.5 in /usr/local/lib/python3.6/dist-packages (from python-dateutil>=2.7.3->pandas->neurokit2) (1.15.0)\n",
            "Installing collected packages: neurokit2\n",
            "Successfully installed neurokit2-0.0.42\n",
            "Collecting japanize-matplotlib\n",
            "\u001b[?25l  Downloading https://files.pythonhosted.org/packages/aa/85/08a4b7fe8987582d99d9bb7ad0ff1ec75439359a7f9690a0dbf2dbf98b15/japanize-matplotlib-1.1.3.tar.gz (4.1MB)\n",
            "\u001b[K     |████████████████████████████████| 4.1MB 9.5MB/s \n",
            "\u001b[?25hRequirement already satisfied: matplotlib in /usr/local/lib/python3.6/dist-packages (from japanize-matplotlib) (3.2.2)\n",
            "Requirement already satisfied: python-dateutil>=2.1 in /usr/local/lib/python3.6/dist-packages (from matplotlib->japanize-matplotlib) (2.8.1)\n",
            "Requirement already satisfied: numpy>=1.11 in /usr/local/lib/python3.6/dist-packages (from matplotlib->japanize-matplotlib) (1.18.5)\n",
            "Requirement already satisfied: cycler>=0.10 in /usr/local/lib/python3.6/dist-packages (from matplotlib->japanize-matplotlib) (0.10.0)\n",
            "Requirement already satisfied: kiwisolver>=1.0.1 in /usr/local/lib/python3.6/dist-packages (from matplotlib->japanize-matplotlib) (1.3.1)\n",
            "Requirement already satisfied: pyparsing!=2.0.4,!=2.1.2,!=2.1.6,>=2.0.1 in /usr/local/lib/python3.6/dist-packages (from matplotlib->japanize-matplotlib) (2.4.7)\n",
            "Requirement already satisfied: six>=1.5 in /usr/local/lib/python3.6/dist-packages (from python-dateutil>=2.1->matplotlib->japanize-matplotlib) (1.15.0)\n",
            "Building wheels for collected packages: japanize-matplotlib\n",
            "  Building wheel for japanize-matplotlib (setup.py) ... \u001b[?25l\u001b[?25hdone\n",
            "  Created wheel for japanize-matplotlib: filename=japanize_matplotlib-1.1.3-cp36-none-any.whl size=4120275 sha256=ccda473dfb86cc2cf07e604a23852b1c5495db5206dd13b3f858397541dfa1ba\n",
            "  Stored in directory: /root/.cache/pip/wheels/b7/d9/a2/f907d50b32a2d2008ce5d691d30fb6569c2c93eefcfde55202\n",
            "Successfully built japanize-matplotlib\n",
            "Installing collected packages: japanize-matplotlib\n",
            "Successfully installed japanize-matplotlib-1.1.3\n"
          ],
          "name": "stdout"
        }
      ]
    },
    {
      "cell_type": "code",
      "metadata": {
        "id": "1XM_lbScz6jx",
        "colab": {
          "base_uri": "https://localhost:8080/",
          "height": 232
        },
        "outputId": "ca53a445-39aa-4821-ecde-716e23216699"
      },
      "source": [
        "import os\n",
        "os.chdir('/content/drive/My Drive/sensor_analysis/notebooks')\n",
        "print(os.getcwd())\n",
        "\n",
        "import sys\n",
        "sys.path.append('/content/drive/My Drive/sensor_analysis/src')\n",
        "import hs_detect as hsd\n",
        "\n",
        "from glob import glob\n",
        "from os.path import join, exists\n",
        "import json\n",
        "from collections import OrderedDict\n",
        "import matplotlib.pyplot as plt\n",
        "\n",
        "\n",
        "import numpy as np\n",
        "import pandas as pd\n",
        "import pickle\n",
        "from scipy import signal \n",
        "import neurokit2 as nk\n",
        "\n",
        "%load_ext autoreload\n",
        "%autoreload 2"
      ],
      "execution_count": null,
      "outputs": [
        {
          "output_type": "error",
          "ename": "FileNotFoundError",
          "evalue": "ignored",
          "traceback": [
            "\u001b[0;31m---------------------------------------------------------------------------\u001b[0m",
            "\u001b[0;31mFileNotFoundError\u001b[0m                         Traceback (most recent call last)",
            "\u001b[0;32m<ipython-input-6-967e0a22d98c>\u001b[0m in \u001b[0;36m<module>\u001b[0;34m()\u001b[0m\n\u001b[1;32m      1\u001b[0m \u001b[0;32mimport\u001b[0m \u001b[0mos\u001b[0m\u001b[0;34m\u001b[0m\u001b[0;34m\u001b[0m\u001b[0m\n\u001b[0;32m----> 2\u001b[0;31m \u001b[0mos\u001b[0m\u001b[0;34m.\u001b[0m\u001b[0mchdir\u001b[0m\u001b[0;34m(\u001b[0m\u001b[0;34m'/content/drive/My Drive/sensor_analysis/notebooks'\u001b[0m\u001b[0;34m)\u001b[0m\u001b[0;34m\u001b[0m\u001b[0;34m\u001b[0m\u001b[0m\n\u001b[0m\u001b[1;32m      3\u001b[0m \u001b[0mprint\u001b[0m\u001b[0;34m(\u001b[0m\u001b[0mos\u001b[0m\u001b[0;34m.\u001b[0m\u001b[0mgetcwd\u001b[0m\u001b[0;34m(\u001b[0m\u001b[0;34m)\u001b[0m\u001b[0;34m)\u001b[0m\u001b[0;34m\u001b[0m\u001b[0;34m\u001b[0m\u001b[0m\n\u001b[1;32m      4\u001b[0m \u001b[0;34m\u001b[0m\u001b[0m\n\u001b[1;32m      5\u001b[0m \u001b[0;32mimport\u001b[0m \u001b[0msys\u001b[0m\u001b[0;34m\u001b[0m\u001b[0;34m\u001b[0m\u001b[0m\n",
            "\u001b[0;31mFileNotFoundError\u001b[0m: [Errno 2] No such file or directory: '/content/drive/My Drive/sensor_analysis/notebooks'"
          ]
        }
      ]
    },
    {
      "cell_type": "code",
      "metadata": {
        "id": "bKibZdDp7Bb0"
      },
      "source": [
        "X_COLUMNS = [11, 12, 13, 14, 15, 16, 23, 24, 25]\n",
        "Y_COLUMNS = [26]"
      ],
      "execution_count": null,
      "outputs": []
    },
    {
      "cell_type": "code",
      "metadata": {
        "id": "cZ0DbylBz6j_"
      },
      "source": [
        "def adjacent_diffs(X: np.array) -> np.array:\n",
        "  '''隣り合う2項の差'''\n",
        "  return X[1:]-X[:-1] \n",
        " \n",
        "def moving_rms(data, n):\n",
        "    data_sq = data ** 2\n",
        "    window = np.ones(n) / n\n",
        "    return np.sqrt(np.convolve(data_sq, window, mode='same'))\n",
        "\n",
        "def process_emg(path, mvc100=False, fs=1500, interval=5, winlen=50):\n",
        "    \"\"\"\n",
        "    Args:\n",
        "        fs (int): sampling frequency [Hz].\n",
        "        mvc100(float): 100%mvc of before right(left)01 [μV].\n",
        "        interval (int): duration of trimmed EMG data.\n",
        "        winlen (int): duration of window for smoothing [ms].\n",
        "    \"\"\"\n",
        "    try:\n",
        "        df = pd.read_csv(path, skiprows=3)\n",
        "    except:\n",
        "        print('UserWarning: no data in {}'.format(path))\n",
        "        return np.zeros(fs*interval), np.zeros(fs*interval)\n",
        "    df.drop(df.columns[[1, 2, -1]], axis=1, inplace=True)\n",
        "    N, D = df.shape\n",
        "    if D == 3:  # 前脛骨筋のみ、2チャネル\n",
        "        col_idx = 1 if 'right' in path else 2\n",
        "    else:  # 4チャネル\n",
        "        if 'vm' in path or 'rf' in path or 'daitai' in path:\n",
        "            col_idx = 1 if 'right' in path else 2\n",
        "        else:\n",
        "            col_idx = 3 if 'right' in path else 4\n",
        "\n",
        "    # trim `interval` sec (by default 5sec x 1,500 Hz = 7,500 samples)\n",
        "    # 生筋電波形の取得\n",
        "    raw = df.iloc[:, col_idx].values\n",
        "    # 配列上の5秒間の長さを計算\n",
        "    interval_sample = interval * fs\n",
        "    # 配列上の50msecの移動RMS窓の長さを計算\n",
        "    subsample = winlen * fs // 1000\n",
        "    # 移動RMSによる平滑化\n",
        "    smoothed = moving_rms(raw, subsample)\n",
        "    minidx = signal.argrelmin(smoothed, order=100)[0] #極小値 tupleなので0を指定\n",
        "    diff_max_idx = minidx[np.argmax(adjacent_diffs(smoothed[minidx]))] # 直後の項との差が最大となるインデックス  \n",
        "    \"\"\"\n",
        "    x = np.array(range(smoothed.shape[0]))\n",
        "    print(\"minidx\",minidx )\n",
        "    print(\"x[diff_max_idx]\", x[diff_max_idx])\n",
        "    print(\"diff_max_idx\", diff_max_idx)\n",
        "    print(\"adjacent_diffs(smoothed[minidx])\", adjacent_diffs(smoothed[minidx]))\n",
        "    plt.plot(x,smoothed,'k-',label='元系列')\n",
        "    plt.plot(x[minidx],smoothed[minidx],'bo',label='ピーク値（最小）')\n",
        "    plt.plot(x[diff_max_idx],smoothed[diff_max_idx],'ro',label='start')\n",
        "    plt.plot(x[diff_max_idx+interval_sample],smoothed[diff_max_idx+interval_sample],'yo',label='end')\n",
        "    plt.legend()\n",
        "    plt.show()\n",
        "    \"\"\"\n",
        "    cut_smoothed = smoothed[diff_max_idx:diff_max_idx+interval_sample]\n",
        "    if mvc100:\n",
        "        # 100%mvcが引数にある時(before right01以外全てこっち)\n",
        "        # 正規化\n",
        "        normalized = cut_smoothed / mvc100 * 100 \n",
        "        # 5秒間の総和を返す\n",
        "        return np.sum(normalized[:interval_sample])\n",
        "    else:\n",
        "        # 100%mvcが引数にない時\n",
        "        # 正規化に使用する100%mvcを取得\n",
        "        num=int(1*fs) #移動平均の個数\n",
        "        b=np.ones(num)/num\n",
        "        mva=np.convolve(cut_smoothed, b, mode='same')#移動平均\n",
        "        mvc100 = np.max(mva)\n",
        "        print(mvc100)\n",
        "        # 正規化\n",
        "        normalized = cut_smoothed / mvc100 * 100\n",
        "        # 5秒間の総和と100%mvcを返す\n",
        "        return np.sum(normalized[:interval_sample]), mvc100  \n",
        "\n",
        "def calc_mf(freqaxis, PS):\n",
        "    # 中間周波数を計算\n",
        "    import bisect\n",
        "    cumsum = np.cumsum(PS)\n",
        "    half_idx = bisect.bisect_left(cumsum, cumsum[-1] / 2)\n",
        "    return freqaxis[half_idx]\n"
      ],
      "execution_count": null,
      "outputs": []
    },
    {
      "cell_type": "markdown",
      "metadata": {
        "id": "5yexSialdT9b"
      },
      "source": [
        "# Prepare dataset"
      ]
    },
    {
      "cell_type": "code",
      "metadata": {
        "id": "Jl3FeNGXOymi",
        "colab": {
          "base_uri": "https://localhost:8080/",
          "height": 612
        },
        "outputId": "8a7a6a8d-7804-4ce2-8d1a-ba51d4913cf1"
      },
      "source": [
        "true_labels = {\n",
        "    \"20200708\" : {\n",
        "        \"before\" : 5642589, \"after01\" : 551150, \"after02\" : 431654, \"after03\" : 457053\n",
        "    },\n",
        "    \"20200709\" : {\n",
        "        \"before\" : 638314, \"after01\" : 596670, \"after02\" : 553434, \"after03\" : 444519 \n",
        "    },\n",
        "    \"20200713\" : {\n",
        "        \"before\" : 663155, \"after01\" : 512743, \"after02\" : 457900, \"after03\" : 436924, \"after04\" : 508547\n",
        "    },\n",
        "    \"20200717\" : {\n",
        "        \"before\" : 624272, \"after01\" : 580883, \"after02\" : 580168, \"after03\" : 521613, \"after04\" : 663759\n",
        "    },\n",
        "    \"20200720\" : {\n",
        "        \"before\" : 631516, \"after01\" : 545252, \"after02\" : 579524, \"after03\" : 611121, \"after04\" :644903\n",
        "    },\n",
        "    \"20200724\" : {\n",
        "        \"before\" : 688702, \"after01\" : 498042, \"after02\" : 444639, \"after03\" : 463018, \"after04\" : 411785\n",
        "    },\n",
        "    \"20200727\" : {\n",
        "        \"before\" : 635678, \"after01\" : 425771, \"after02\" : 485359, \"after03\" : 407195, \"after04\" : 500406\n",
        "    },\n",
        "\n",
        "    \"20200817\" : {\n",
        "        \"before\" : 626920 , \"after01\" :   565769 , \"after02\" :  650666 \n",
        "    },\n",
        "    \"20200819\" : {\n",
        "        \"before\" :  671503 , \"after01\" :  589653 , \"after02\" :  544994 \n",
        "    },\n",
        "}\n",
        "#true_labels = json.dumps(true_labels)\n",
        "true_labels"
      ],
      "execution_count": null,
      "outputs": [
        {
          "output_type": "execute_result",
          "data": {
            "text/plain": [
              "{'20200708': {'after01': 551150,\n",
              "  'after02': 431654,\n",
              "  'after03': 457053,\n",
              "  'before': 5642589},\n",
              " '20200709': {'after01': 596670,\n",
              "  'after02': 553434,\n",
              "  'after03': 444519,\n",
              "  'before': 638314},\n",
              " '20200713': {'after01': 512743,\n",
              "  'after02': 457900,\n",
              "  'after03': 436924,\n",
              "  'after04': 508547,\n",
              "  'before': 663155},\n",
              " '20200717': {'after01': 580883,\n",
              "  'after02': 580168,\n",
              "  'after03': 521613,\n",
              "  'after04': 663759,\n",
              "  'before': 624272},\n",
              " '20200720': {'after01': 545252,\n",
              "  'after02': 579524,\n",
              "  'after03': 611121,\n",
              "  'after04': 644903,\n",
              "  'before': 631516},\n",
              " '20200724': {'after01': 498042,\n",
              "  'after02': 444639,\n",
              "  'after03': 463018,\n",
              "  'after04': 411785,\n",
              "  'before': 688702},\n",
              " '20200727': {'after01': 425771,\n",
              "  'after02': 485359,\n",
              "  'after03': 407195,\n",
              "  'after04': 500406,\n",
              "  'before': 635678},\n",
              " '20200817': {'after01': 565769, 'after02': 650666, 'before': 626920},\n",
              " '20200819': {'after01': 589653, 'after02': 544994, 'before': 671503}}"
            ]
          },
          "metadata": {
            "tags": []
          },
          "execution_count": 33
        }
      ]
    },
    {
      "cell_type": "markdown",
      "metadata": {
        "id": "-Gcis8h2yVT_"
      },
      "source": [
        "### 各日の100%mvcを計算\n",
        "emg_paths = sorted(glob(join('/content/drive/My Drive/202006～_筋電計＋センサデータ取得@KERNEL/*/03_*/matsui/*before*_right01.csv')))\n",
        "date_mvc100 = {}\n",
        "for path in emg_paths:\n",
        "  date = path.split(\"/\")[-4]\n",
        "  try:\n",
        "    val, mvc100 = process_emg(path)\n",
        "  except Exception as e:\n",
        "    print(date, e)\n",
        "    continue\n",
        "  date_mvc100[date] = mvc100\n",
        "date_mvc100"
      ]
    },
    {
      "cell_type": "markdown",
      "metadata": {
        "id": "jUGuO61gVQQO"
      },
      "source": [
        "# Create dataset"
      ]
    },
    {
      "cell_type": "code",
      "metadata": {
        "id": "TVeSUa2voFQr",
        "colab": {
          "base_uri": "https://localhost:8080/",
          "height": 241
        },
        "outputId": "603b265f-934d-4a56-c2c9-9c32a4c77cc0"
      },
      "source": [
        "#csv_paths = sorted(glob(join('/content/drive/My Drive/202006～_筋電計＋センサデータ取得@KERNEL/*/02_*/tomita/*.csv')))\n",
        "#csv_paths.extend(sorted(glob(join('/content/drive/My Drive/202006～_筋電計＋センサデータ取得@KERNEL/*/02_*/matsui/*.csv'))))\n",
        "csv_paths = sorted(glob(join('/content/drive/My Drive/202006～_筋電計＋センサデータ取得@KERNEL/20200709/02_*/matsui/*.csv'))) + sorted(glob(join('/content/drive/My Drive/202006～_筋電計＋センサデータ取得@KERNEL/202008*/02_*/matsui/*.csv')))  \n",
        "name = \"matsui\"\n",
        "X, Y = [], []\n",
        "yname_list = []\n",
        "date_mvc100 = {}\n",
        "#result_dic = {}\n",
        "for csv_path in csv_paths:\n",
        "    key = csv_path.split('/')[-1].split('.')[0]\n",
        "    if key == 'before01':\n",
        "        key = 'before'\n",
        "    person = csv_path.split('/')[-2]\n",
        "    date = csv_path.split(\"/\")[-4]\n",
        "    \n",
        "    # fetch output data (EMG data)\n",
        "    root_dir = '/'.join(csv_path.split('/')[:-3])\n",
        "    emg_paths = glob(join(root_dir, f'03_*/{name}/*{key}_right01.csv'))\n",
        "    before_right01_paths = glob(join(root_dir, f'03_*/{name}/*before*_right01.csv'))\n",
        "    for path in before_right01_paths:\n",
        "        ps_sum_temp, mvc100 = process_emg(path)\n",
        "        date_mvc100[date] = mvc100\n",
        "    ps_sums = []\n",
        "    for path in emg_paths:\n",
        "        try:\n",
        "          ps_sum_temp = process_emg(path, mvc100=date_mvc100[date])\n",
        "          ps_sums.append(ps_sum_temp)\n",
        "          print(path, ps_sum_temp)\n",
        "        except Exception as e:\n",
        "          raise e\n",
        "    try:\n",
        "      ps_sums = np.array(ps_sums)\n",
        "      ps_sum = np.mean(ps_sums[~np.isnan(ps_sums)])\n",
        "    except Exception as e:\n",
        "      print(e, csv_path)\n",
        "      continue\n",
        "    \"\"\"\n",
        "\n",
        "    # 西出さん作成の教師ラベルを読み込む\n",
        "    ps_sum = 0\n",
        "    if date in true_labels.keys():\n",
        "      if key in true_labels[date].keys():\n",
        "        ps_sum = true_labels[date][key]\n",
        "    if ps_sum == 0:\n",
        "      continue\n",
        "    \"\"\"\n",
        "    \"\"\"\n",
        "    # load input data (9-axis sensor data)\n",
        "    print('processing', csv_path)\n",
        "    df = pd.read_csv(csv_path)\n",
        "    df['ps_sum'] = ps_sum\n",
        "    x, y = hsd.create_resampled_gaitcycle(df, X_COLUMNS, Y_COLUMNS, lr='right', n_points=100)\n",
        "    X.append(x)\n",
        "    Y.append(y)\n",
        "\n",
        "    # name list of y\n",
        "    yname_list.append(f\"{person}_{date}_{key}\")\n",
        "    \"\"\"\n"
      ],
      "execution_count": null,
      "outputs": [
        {
          "output_type": "stream",
          "text": [
            "500.5832307605401\n",
            "/content/drive/My Drive/202006～_筋電計＋センサデータ取得@KERNEL/20200709/03_パワースペクトラム/matsui/2020-07-09-12-18_20200709_after01_right01.csv 586030.2382883311\n",
            "500.5832307605401\n",
            "/content/drive/My Drive/202006～_筋電計＋センサデータ取得@KERNEL/20200709/03_パワースペクトラム/matsui/2020-07-09-20-30_20200709_after02_right01.csv 550677.6495966661\n",
            "500.5832307605401\n",
            "/content/drive/My Drive/202006～_筋電計＋センサデータ取得@KERNEL/20200709/03_パワースペクトラム/matsui/2020-07-09-21-53_20200709_after03_right01.csv 442844.3546251993\n",
            "500.5832307605401\n",
            "/content/drive/My Drive/202006～_筋電計＋センサデータ取得@KERNEL/20200709/03_パワースペクトラム/matsui/2020-07-09-10-19_20200709_before_right01.csv 641400.2070717392\n"
          ],
          "name": "stdout"
        },
        {
          "output_type": "stream",
          "text": [
            "/usr/local/lib/python3.6/dist-packages/numpy/core/fromnumeric.py:3335: RuntimeWarning: Mean of empty slice.\n",
            "  out=out, **kwargs)\n",
            "/usr/local/lib/python3.6/dist-packages/numpy/core/_methods.py:161: RuntimeWarning: invalid value encountered in double_scalars\n",
            "  ret = ret.dtype.type(ret / rcount)\n"
          ],
          "name": "stderr"
        }
      ]
    },
    {
      "cell_type": "markdown",
      "metadata": {
        "id": "JKyz-IcGACB6"
      },
      "source": [
        "%matplotlib inline\n",
        "import matplotlib.pyplot as plt\n",
        "plt.plot(list(result_dic.keys()), list(result_dic.values()))\n",
        "plt.xticks(rotation=90)\n",
        "plt.rcParams['figure.figsize'] = (100 ,100)\n",
        "plt.show()"
      ]
    }
  ]
}